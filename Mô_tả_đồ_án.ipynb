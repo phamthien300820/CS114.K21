{
  "nbformat": 4,
  "nbformat_minor": 0,
  "metadata": {
    "colab": {
      "name": "Mô tả đồ án.ipynb",
      "provenance": [],
      "collapsed_sections": [],
      "authorship_tag": "ABX9TyOlhK5mJqH3Z4VFiuFLHL0v",
      "include_colab_link": true
    },
    "kernelspec": {
      "name": "python3",
      "display_name": "Python 3"
    }
  },
  "cells": [
    {
      "cell_type": "markdown",
      "metadata": {
        "id": "view-in-github",
        "colab_type": "text"
      },
      "source": [
        "<a href=\"https://colab.research.google.com/github/phamthien300820/CS114.K21/blob/master/M%C3%B4_t%E1%BA%A3_%C4%91%E1%BB%93_%C3%A1n.ipynb\" target=\"_parent\"><img src=\"https://colab.research.google.com/assets/colab-badge.svg\" alt=\"Open In Colab\"/></a>"
      ]
    },
    {
      "cell_type": "markdown",
      "metadata": {
        "id": "YT7QA_9QTeZ1",
        "colab_type": "text"
      },
      "source": [
        "# **Đồ án môn học** \n"
      ]
    },
    {
      "cell_type": "markdown",
      "metadata": {
        "id": "pc3MgR0Hbkqb",
        "colab_type": "text"
      },
      "source": [
        "## Thành viên nhóm\n",
        "\n",
        "\n",
        "*  Phạm Xuân Thiên 18520158\n",
        "*  Vũ Thị Trang 18520387\n",
        "*  Lê Thị Ngọc Phương 18521273\n",
        "\n",
        "\n",
        "\n"
      ]
    },
    {
      "cell_type": "markdown",
      "metadata": {
        "id": "EX1liYcCUVNs",
        "colab_type": "text"
      },
      "source": [
        "## Mô tả bài toán\n"
      ]
    },
    {
      "cell_type": "markdown",
      "metadata": {
        "id": "dFHLgILlUZHf",
        "colab_type": "text"
      },
      "source": [
        "Trong thời buổi phương tiện giao thông ngày càng phổ biển, việc tìm hiểu các vấn đề liên quan đến các phương tiện giao thông trở nên rất phổ biến. Ở Việt Nam, xe máy đang là phương tiện phổ biến nhất. Thống kê số lượng xe máy trong 1 tấm ảnh cũng là bài toán cần xử lý. Do đó nhóm em chọn bài toán classification 1 tấm ảnh có xe máy hay không.\n",
        "\n"
      ]
    },
    {
      "cell_type": "markdown",
      "metadata": {
        "id": "9GlhqdhnZcCC",
        "colab_type": "text"
      },
      "source": [
        "## Giới thiệu đề tài\n"
      ]
    },
    {
      "cell_type": "markdown",
      "metadata": {
        "id": "71tHCmmHZgzn",
        "colab_type": "text"
      },
      "source": [
        "Hệ thống nhận 1 bức ảnh xem trong bước ảnh mình đưa vào có xe máy hay không \n",
        "\n",
        "Input: Một bước ảnh bất kỳ\n",
        "\n",
        "Output: Kết quả kiểm tra xem có xe máy trong hình hay không"
      ]
    },
    {
      "cell_type": "markdown",
      "metadata": {
        "id": "IXqP11G9cVhY",
        "colab_type": "text"
      },
      "source": [
        "## Mô tả dữ liệu và hướng giải quyết"
      ]
    },
    {
      "cell_type": "markdown",
      "metadata": {
        "id": "X7XyzjUzcaN0",
        "colab_type": "text"
      },
      "source": [
        "\n",
        "\n",
        "*  Cách thức thu thập: quay video đường đi trong khu vực làng đai học và chụp ảnh trên các con đường ở khu vực xung quanh Ký túc xá.\n",
        "*   Số lượng: 2449 ảnh, trong đó có 1248 ảnh có xe máy và 1201 ảnh không có xe máy.\n",
        "*   Chia data ra làm 2 tập 1 tập train khoảng 75% và 1 tập test khoảng 35%, dự định sẽ sử dụng SVM VÀ RandomForest để kiểm tra kết quả\n",
        "*   Có sử dụng thêm deeplearning model : ResNet50.\n",
        "\n"
      ]
    },
    {
      "cell_type": "markdown",
      "metadata": {
        "id": "Qc-YSZridngN",
        "colab_type": "text"
      },
      "source": [
        "### Mô tả cách đánh giá\n"
      ]
    },
    {
      "cell_type": "markdown",
      "metadata": {
        "id": "QFZcg9tPdtQj",
        "colab_type": "text"
      },
      "source": [
        "Đánh giá kết quả thông qua một vài độ đo như accurancy, f1 score, loss..., so sánh kết quả đầu ra của các thuật toán"
      ]
    }
  ]
}